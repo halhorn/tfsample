{
 "cells": [
  {
   "cell_type": "markdown",
   "metadata": {},
   "source": [
    "# Eager Execution で遊ぶ\n",
    "いろいろ試してみる"
   ]
  },
  {
   "cell_type": "code",
   "execution_count": 1,
   "metadata": {},
   "outputs": [],
   "source": [
    "import tensorflow as tf"
   ]
  },
  {
   "cell_type": "code",
   "execution_count": 2,
   "metadata": {},
   "outputs": [],
   "source": [
    "tf.enable_eager_execution()"
   ]
  },
  {
   "cell_type": "markdown",
   "metadata": {},
   "source": [
    "# 単純計算"
   ]
  },
  {
   "cell_type": "code",
   "execution_count": 3,
   "metadata": {},
   "outputs": [
    {
     "data": {
      "text/plain": [
       "<tf.Tensor: id=1, shape=(), dtype=float32, numpy=1.0>"
      ]
     },
     "execution_count": 3,
     "metadata": {},
     "output_type": "execute_result"
    }
   ],
   "source": [
    "x = tf.constant(1.)\n",
    "y = tf.constant(2.)\n",
    "x"
   ]
  },
  {
   "cell_type": "code",
   "execution_count": 4,
   "metadata": {},
   "outputs": [
    {
     "name": "stdout",
     "output_type": "stream",
     "text": [
      "tf.Tensor(3.0, shape=(), dtype=float32)\n",
      "tf.Tensor(5.0, shape=(), dtype=float32)\n",
      "tf.Tensor(8.0, shape=(), dtype=float32)\n",
      "tf.Tensor(13.0, shape=(), dtype=float32)\n",
      "tf.Tensor(21.0, shape=(), dtype=float32)\n",
      "tf.Tensor(34.0, shape=(), dtype=float32)\n",
      "tf.Tensor(55.0, shape=(), dtype=float32)\n",
      "tf.Tensor(89.0, shape=(), dtype=float32)\n",
      "tf.Tensor(144.0, shape=(), dtype=float32)\n",
      "tf.Tensor(233.0, shape=(), dtype=float32)\n"
     ]
    }
   ],
   "source": [
    "for i in range(10):\n",
    "    z = y\n",
    "    y = x + y\n",
    "    x = z\n",
    "    print(y)"
   ]
  },
  {
   "cell_type": "markdown",
   "metadata": {},
   "source": [
    "# パフォーマンス"
   ]
  },
  {
   "cell_type": "code",
   "execution_count": 5,
   "metadata": {},
   "outputs": [],
   "source": [
    "import time\n",
    "from tqdm import tqdm"
   ]
  },
  {
   "cell_type": "code",
   "execution_count": 6,
   "metadata": {},
   "outputs": [],
   "source": [
    "def calc():\n",
    "    X = tf.ones(shape=[256, 256], dtype=tf.float32)\n",
    "    for i in range(100):\n",
    "        X = tf.layers.dense(X, 256)\n",
    "    return X"
   ]
  },
  {
   "cell_type": "code",
   "execution_count": 7,
   "metadata": {},
   "outputs": [
    {
     "name": "stdout",
     "output_type": "stream",
     "text": [
      "graph mode elapsed: 1.3104174137115479\n",
      "graph mode run: 0.4512958526611328\n"
     ]
    }
   ],
   "source": [
    "start = time.time()\n",
    "with tf.Graph().as_default():\n",
    "    X = calc()\n",
    "    after_graph = time.time()\n",
    "    with tf.Session() as sess:\n",
    "        sess.run(tf.global_variables_initializer())\n",
    "        result = sess.run(X)\n",
    "end = time.time()\n",
    "print('graph mode elapsed:', end - start)\n",
    "print('graph mode run:', end - after_graph)\n",
    "#print(result)"
   ]
  },
  {
   "cell_type": "code",
   "execution_count": 8,
   "metadata": {},
   "outputs": [
    {
     "name": "stdout",
     "output_type": "stream",
     "text": [
      "eager mode elapsed: 0.25153040885925293\n"
     ]
    }
   ],
   "source": [
    "start = time.time()\n",
    "result = calc()\n",
    "print('eager mode elapsed:', time.time() - start)\n",
    "#print(result)"
   ]
  },
  {
   "cell_type": "code",
   "execution_count": 9,
   "metadata": {},
   "outputs": [
    {
     "name": "stderr",
     "output_type": "stream",
     "text": [
      "100%|██████████| 50/50 [00:12<00:00,  4.00it/s]"
     ]
    },
    {
     "name": "stdout",
     "output_type": "stream",
     "text": [
      "graph mode elapsed: 13.499590873718262\n",
      "0.340 0.236 0.237 0.238 0.240 0.237 0.239 0.236 0.236 0.236 0.244 0.239 0.247 0.245 0.248 0.249 0.246 0.246 0.249 0.250 0.249 0.251 0.244 0.245 0.248 0.250 0.248 0.247 0.252 0.243 0.249 0.249 0.250 0.252 0.254 0.249 0.250 0.251 0.258 0.258 0.255 0.256 0.255 0.255 0.262 0.256 0.256 0.252 0.252 0.256\n"
     ]
    },
    {
     "name": "stderr",
     "output_type": "stream",
     "text": [
      "\n"
     ]
    }
   ],
   "source": [
    "start = time.time()\n",
    "elapsed_list = []\n",
    "with tf.Graph().as_default():\n",
    "    X = calc()\n",
    "    with tf.Session() as sess:\n",
    "        for i in tqdm(range(50)):\n",
    "            iter_start = time.time()\n",
    "            sess.run(tf.global_variables_initializer())\n",
    "            result = sess.run(X)\n",
    "            elapsed_list.append(time.time() - iter_start)\n",
    "\n",
    "print('graph mode elapsed:', time.time() - start)\n",
    "print(' '.join([f'{elapsed:.3f}' for elapsed in elapsed_list]))\n",
    "#print(result)"
   ]
  },
  {
   "cell_type": "code",
   "execution_count": 10,
   "metadata": {},
   "outputs": [
    {
     "name": "stderr",
     "output_type": "stream",
     "text": [
      "100%|██████████| 50/50 [00:21<00:00,  2.35it/s]"
     ]
    },
    {
     "name": "stdout",
     "output_type": "stream",
     "text": [
      "eager mode elapsed: 21.26130485534668\n",
      "0.255 0.260 0.264 0.268 0.277 0.280 0.289 0.360 0.302 0.308 0.316 0.320 0.335 0.342 0.350 0.356 0.362 0.371 0.377 0.385 0.392 0.407 0.411 0.415 0.427 0.429 0.434 0.440 0.447 0.451 0.460 0.468 0.474 0.482 0.488 0.498 0.504 0.511 0.518 0.525 0.541 0.549 0.537 0.557 0.562 0.570 0.579 0.587 0.592 0.608\n"
     ]
    },
    {
     "name": "stderr",
     "output_type": "stream",
     "text": [
      "\n"
     ]
    }
   ],
   "source": [
    "start = time.time()\n",
    "elapsed_list = []\n",
    "\n",
    "for i in tqdm(range(50)):\n",
    "    iter_start = time.time()\n",
    "    result = calc()\n",
    "    elapsed_list.append(time.time() - iter_start)\n",
    "print('eager mode elapsed:', time.time() - start)\n",
    "print(' '.join([f'{elapsed:.3f}' for elapsed in elapsed_list]))\n",
    "#print(result)"
   ]
  },
  {
   "cell_type": "code",
   "execution_count": null,
   "metadata": {},
   "outputs": [],
   "source": []
  }
 ],
 "metadata": {
  "kernelspec": {
   "display_name": "Python 3",
   "language": "python",
   "name": "python3"
  },
  "language_info": {
   "codemirror_mode": {
    "name": "ipython",
    "version": 3
   },
   "file_extension": ".py",
   "mimetype": "text/x-python",
   "name": "python",
   "nbconvert_exporter": "python",
   "pygments_lexer": "ipython3",
   "version": "3.6.5"
  }
 },
 "nbformat": 4,
 "nbformat_minor": 2
}
