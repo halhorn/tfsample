{
 "cells": [
  {
   "cell_type": "markdown",
   "metadata": {},
   "source": [
    "# Eager Execution で遊ぶ\n",
    "いろいろ試してみる"
   ]
  },
  {
   "cell_type": "code",
   "execution_count": 2,
   "metadata": {},
   "outputs": [],
   "source": [
    "import tensorflow as tf"
   ]
  },
  {
   "cell_type": "code",
   "execution_count": 3,
   "metadata": {},
   "outputs": [],
   "source": [
    "tf.enable_eager_execution()"
   ]
  },
  {
   "cell_type": "markdown",
   "metadata": {},
   "source": [
    "# 単純計算"
   ]
  },
  {
   "cell_type": "code",
   "execution_count": null,
   "metadata": {},
   "outputs": [],
   "source": [
    "x = tf.constant(1.)\n",
    "y = tf.constant(2.)\n",
    "x"
   ]
  },
  {
   "cell_type": "code",
   "execution_count": null,
   "metadata": {},
   "outputs": [],
   "source": [
    "for i in range(10):\n",
    "    z = y\n",
    "    y = x + y\n",
    "    x = z\n",
    "    print(y)"
   ]
  },
  {
   "cell_type": "markdown",
   "metadata": {},
   "source": [
    "# パフォーマンス"
   ]
  },
  {
   "cell_type": "code",
   "execution_count": 4,
   "metadata": {},
   "outputs": [],
   "source": [
    "import time\n",
    "from tqdm import tqdm"
   ]
  },
  {
   "cell_type": "code",
   "execution_count": 5,
   "metadata": {},
   "outputs": [],
   "source": [
    "def calc():\n",
    "    X = tf.ones(shape=[256, 256], dtype=tf.float32)\n",
    "    for i in range(100):\n",
    "        X = tf.layers.dense(X, 256)\n",
    "    return X"
   ]
  },
  {
   "cell_type": "code",
   "execution_count": 6,
   "metadata": {},
   "outputs": [
    {
     "name": "stdout",
     "output_type": "stream",
     "text": [
      "graph mode elapsed: 1.8623850345611572\n",
      "graph mode run: 1.0190224647521973\n"
     ]
    }
   ],
   "source": [
    "start = time.time()\n",
    "with tf.Graph().as_default():\n",
    "    X = calc()\n",
    "    after_graph = time.time()\n",
    "    with tf.Session() as sess:\n",
    "        sess.run(tf.global_variables_initializer())\n",
    "        result = sess.run(X)\n",
    "end = time.time()\n",
    "print('graph mode elapsed:', end - start)\n",
    "print('graph mode run:', end - after_graph)\n",
    "#print(result)"
   ]
  },
  {
   "cell_type": "code",
   "execution_count": 7,
   "metadata": {},
   "outputs": [
    {
     "name": "stdout",
     "output_type": "stream",
     "text": [
      "eager mode elapsed: 0.23740339279174805\n"
     ]
    }
   ],
   "source": [
    "start = time.time()\n",
    "result = calc()\n",
    "print('eager mode elapsed:', time.time() - start)\n",
    "#print(result)"
   ]
  },
  {
   "cell_type": "code",
   "execution_count": 8,
   "metadata": {},
   "outputs": [
    {
     "name": "stderr",
     "output_type": "stream",
     "text": [
      "100%|██████████| 50/50 [00:12<00:00,  3.95it/s]"
     ]
    },
    {
     "name": "stdout",
     "output_type": "stream",
     "text": [
      "graph mode elapsed: 13.353304862976074\n",
      "0.336 0.236 0.237 0.238 0.238 0.239 0.234 0.231 0.237 0.236 0.238 0.239 0.241 0.242 0.239 0.240 0.240 0.239 0.241 0.241 0.245 0.246 0.242 0.244 0.252 0.248 0.248 0.246 0.248 0.249 0.247 0.248 0.248 0.247 0.248 0.249 0.250 0.250 0.249 0.249 0.250 0.249 0.252 0.251 0.252 0.252 0.252 0.254 0.253 0.253\n"
     ]
    },
    {
     "name": "stderr",
     "output_type": "stream",
     "text": [
      "\n"
     ]
    }
   ],
   "source": [
    "start = time.time()\n",
    "elapsed_list = []\n",
    "with tf.Graph().as_default():\n",
    "    X = calc()\n",
    "    with tf.Session() as sess:\n",
    "        for i in tqdm(range(50)):\n",
    "            iter_start = time.time()\n",
    "            sess.run(tf.global_variables_initializer())\n",
    "            result = sess.run(X)\n",
    "            elapsed_list.append(time.time() - iter_start)\n",
    "\n",
    "print('graph mode elapsed:', time.time() - start)\n",
    "print(' '.join([f'{elapsed:.3f}' for elapsed in elapsed_list]))\n",
    "#print(result)"
   ]
  },
  {
   "cell_type": "code",
   "execution_count": 9,
   "metadata": {},
   "outputs": [
    {
     "name": "stderr",
     "output_type": "stream",
     "text": [
      "100%|██████████| 50/50 [00:21<00:00,  1.74it/s]"
     ]
    },
    {
     "name": "stdout",
     "output_type": "stream",
     "text": [
      "eager mode elapsed: 21.258570671081543\n",
      "0.250 0.258 0.264 0.272 0.278 0.284 0.291 0.297 0.304 0.316 0.327 0.336 0.342 0.348 0.355 0.363 0.369 0.375 0.374 0.377 0.395 0.402 0.408 0.407 0.414 0.419 0.425 0.432 0.439 0.445 0.453 0.457 0.466 0.474 0.481 0.488 0.495 0.502 0.513 0.519 0.525 0.534 0.540 0.547 0.554 0.562 0.569 0.576 0.583 0.589\n"
     ]
    },
    {
     "name": "stderr",
     "output_type": "stream",
     "text": [
      "\n"
     ]
    }
   ],
   "source": [
    "start = time.time()\n",
    "elapsed_list = []\n",
    "result = calc()\n",
    "\n",
    "for i in tqdm(range(50)):\n",
    "    iter_start = time.time()\n",
    "    result = calc()\n",
    "    elapsed_list.append(time.time() - iter_start)\n",
    "print('eager mode elapsed:', time.time() - start)\n",
    "print(' '.join([f'{elapsed:.3f}' for elapsed in elapsed_list]))\n",
    "#print(result)"
   ]
  },
  {
   "cell_type": "code",
   "execution_count": null,
   "metadata": {},
   "outputs": [],
   "source": [
    "g = tf.get_default_graph()\n",
    "g.get_operations()"
   ]
  },
  {
   "cell_type": "markdown",
   "metadata": {},
   "source": [
    "# パフォーマンス（Model）"
   ]
  },
  {
   "cell_type": "code",
   "execution_count": 10,
   "metadata": {},
   "outputs": [],
   "source": [
    "import time\n",
    "from tqdm import tqdm"
   ]
  },
  {
   "cell_type": "code",
   "execution_count": 11,
   "metadata": {},
   "outputs": [],
   "source": [
    "class Calc(tf.keras.Model):\n",
    "    def __init__(self):\n",
    "        super(Calc, self).__init__()\n",
    "        self.denses = [tf.keras.layers.Dense(units=256) for i in range(100)]\n",
    "        \n",
    "    def call(self, input):\n",
    "        x = input\n",
    "        for layer in self.denses:\n",
    "            x = layer(x)\n",
    "        return x"
   ]
  },
  {
   "cell_type": "code",
   "execution_count": 15,
   "metadata": {},
   "outputs": [
    {
     "name": "stderr",
     "output_type": "stream",
     "text": [
      "100%|██████████| 50/50 [00:10<00:00,  4.60it/s]"
     ]
    },
    {
     "name": "stdout",
     "output_type": "stream",
     "text": [
      "eager mode elapsed: 10.831282377243042\n",
      "0.212 0.213 0.213 0.214 0.213 0.214 0.216 0.216 0.214 0.215 0.259 0.222 0.215 0.218 0.217 0.217 0.215 0.210 0.215 0.215 0.211 0.210 0.214 0.214 0.214 0.214 0.212 0.215 0.214 0.214 0.209 0.215 0.219 0.215 0.211 0.214 0.214 0.214 0.212 0.215 0.212 0.214 0.215 0.262 0.221 0.215 0.215 0.215 0.215 0.215\n",
      "tf.Tensor(\n",
      "[[ 0.79088724 -0.37703872 -0.20463532 ...  0.13335949 -0.7566216\n",
      "  -0.03036916]\n",
      " [ 0.79088724 -0.37703872 -0.20463532 ...  0.13335949 -0.7566216\n",
      "  -0.03036916]\n",
      " [ 0.79088724 -0.37703872 -0.20463532 ...  0.13335949 -0.7566216\n",
      "  -0.03036916]\n",
      " ...\n",
      " [ 0.79088724 -0.37703872 -0.20463532 ...  0.13335949 -0.7566216\n",
      "  -0.03036916]\n",
      " [ 0.79088724 -0.37703872 -0.20463532 ...  0.13335949 -0.7566216\n",
      "  -0.03036916]\n",
      " [ 0.79088724 -0.37703872 -0.20463532 ...  0.13335949 -0.7566216\n",
      "  -0.03036916]], shape=(256, 256), dtype=float32)\n"
     ]
    },
    {
     "name": "stderr",
     "output_type": "stream",
     "text": [
      "\n"
     ]
    }
   ],
   "source": [
    "start = time.time()\n",
    "elapsed_list = []\n",
    "#calc_model = Calc()\n",
    "\n",
    "for i in tqdm(range(50)):\n",
    "    iter_start = time.time()\n",
    "    input_ = tf.ones(shape=[256, 256], dtype=tf.float32)\n",
    "#    result = calc_model(input_)\n",
    "    result = Calc()(input_)\n",
    "    elapsed_list.append(time.time() - iter_start)\n",
    "print('eager mode elapsed:', time.time() - start)\n",
    "print(' '.join([f'{elapsed:.3f}' for elapsed in elapsed_list]))\n",
    "print(result)"
   ]
  },
  {
   "cell_type": "markdown",
   "metadata": {},
   "source": [
    "# autograph"
   ]
  },
  {
   "cell_type": "code",
   "execution_count": null,
   "metadata": {},
   "outputs": [],
   "source": [
    "import numpy as np\n",
    "import random\n",
    "from tensorflow.contrib import autograph"
   ]
  },
  {
   "cell_type": "code",
   "execution_count": null,
   "metadata": {},
   "outputs": [],
   "source": [
    "def step_generator(input_: int):\n",
    "    if input_ <= 0 or input_ > 10:\n",
    "        return 0\n",
    "    return input_ - 1\n",
    "#    return input_ + np.random.choice([-1, 1])  # this occures ERROR on to_graph()\n",
    "#    return input_ + random.randint(-1, 1)\n",
    "\n",
    "def loop_generator(i: int):\n",
    "    i_list = [i]\n",
    "#    while i != 0:  # this occures ERROR on run graph on graph-mode after to_graph()\n",
    "    for _ in range(10):\n",
    "#        if i == 0: # this occures ERROR on run graph on graph-mode after to_graph()\n",
    "#            break\n",
    "        i = step_generator(i)\n",
    "        i_list.append(i)\n",
    "    return i_list"
   ]
  },
  {
   "cell_type": "code",
   "execution_count": null,
   "metadata": {},
   "outputs": [],
   "source": [
    "result = loop_generator(tf.constant(1))\n",
    "print('\\n'.join(['{}: {}'.format(i, type(i)) for i in result]))\n"
   ]
  },
  {
   "cell_type": "code",
   "execution_count": null,
   "metadata": {},
   "outputs": [],
   "source": [
    "tf_step_generator = autograph.to_graph(step_generator)\n",
    "tf_loop_generator = autograph.to_graph(loop_generator)"
   ]
  },
  {
   "cell_type": "code",
   "execution_count": null,
   "metadata": {},
   "outputs": [],
   "source": [
    "print(autograph.to_code(loop_generator))"
   ]
  },
  {
   "cell_type": "code",
   "execution_count": null,
   "metadata": {},
   "outputs": [],
   "source": [
    "tf_loop_generator(tf.constant(1))"
   ]
  },
  {
   "cell_type": "code",
   "execution_count": null,
   "metadata": {},
   "outputs": [],
   "source": [
    "with tf.Session(graph=tf.Graph()) as sess:\n",
    "    input_op = tf.constant(1)\n",
    "    result = sess.run(tf_loop_generator(input_op))\n",
    "    print(result)"
   ]
  },
  {
   "cell_type": "code",
   "execution_count": null,
   "metadata": {},
   "outputs": [],
   "source": []
  }
 ],
 "metadata": {
  "kernelspec": {
   "display_name": "Python 3",
   "language": "python",
   "name": "python3"
  },
  "language_info": {
   "codemirror_mode": {
    "name": "ipython",
    "version": 3
   },
   "file_extension": ".py",
   "mimetype": "text/x-python",
   "name": "python",
   "nbconvert_exporter": "python",
   "pygments_lexer": "ipython3",
   "version": "3.6.5"
  }
 },
 "nbformat": 4,
 "nbformat_minor": 2
}
